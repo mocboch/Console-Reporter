{
 "cells": [
  {
   "cell_type": "markdown",
   "id": "41b97fa9",
   "metadata": {},
   "source": [
    "# Console Session Report (Automatically Generated)\n",
    "**Created by:** Mark\n",
    "**Date:** April 27, 2024\n",
    "**Model Version:** models/gemini-pro\n",
    "\n",
    "**Session outcome:** *Create a jupyter notebook explaining correct steps taken to achieve the specified output in the console log*"
   ]
  },
  {
   "cell_type": "markdown",
   "id": "ffef50c5",
   "metadata": {},
   "source": [
    " **Import the necessary libraries.**\n"
   ]
  },
  {
   "cell_type": "code",
   "execution_count": null,
   "id": "9face90e",
   "metadata": {},
   "outputs": [],
   "source": [
    "import google.ai.generativelanguage as glm\n",
    "import google.generativeai as genai"
   ]
  },
  {
   "cell_type": "markdown",
   "id": "ed0185a8",
   "metadata": {},
   "source": [
    " **Configure the API key.**\n"
   ]
  },
  {
   "cell_type": "code",
   "execution_count": null,
   "id": "e27dc858",
   "metadata": {},
   "outputs": [],
   "source": [
    "apikey = open('apikey.txt').read()\n",
    "genai.configure(api_key=apikey)"
   ]
  },
  {
   "cell_type": "markdown",
   "id": "d1babb6f",
   "metadata": {},
   "source": [
    " **Create a Generative Model.**\n"
   ]
  },
  {
   "cell_type": "code",
   "execution_count": null,
   "id": "79449d8b",
   "metadata": {},
   "outputs": [],
   "source": [
    "model = genai.GenerativeModel('gemini-pro')"
   ]
  },
  {
   "cell_type": "markdown",
   "id": "bd029d8d",
   "metadata": {},
   "source": [
    " **Read the console log from a file.**\n"
   ]
  },
  {
   "cell_type": "code",
   "execution_count": null,
   "id": "11ebc57e",
   "metadata": {},
   "outputs": [],
   "source": [
    "console_log = open('console.txt').read()"
   ]
  },
  {
   "cell_type": "markdown",
   "id": "65f91384",
   "metadata": {},
   "source": [
    " **Set the specified outcome and output line.**\n"
   ]
  },
  {
   "cell_type": "code",
   "execution_count": null,
   "id": "d82d36d5",
   "metadata": {},
   "outputs": [],
   "source": [
    "outcome_line = 11\n",
    "specified_outcome = ('create a function to return the sum of 3 numbers')"
   ]
  },
  {
   "cell_type": "markdown",
   "id": "66550af9",
   "metadata": {},
   "source": [
    " **Generate the code using the Generative Model.**\n"
   ]
  },
  {
   "cell_type": "code",
   "execution_count": null,
   "id": "4988d2a5",
   "metadata": {},
   "outputs": [],
   "source": [
    "response = model.generate_content('Eliminate all code from the console log which is not necessary to achieve the specified outcome as demonstrated in the specified output line.  Specified Outcome: ' + specified_outcome + '. Output Line: ' + str(outcome_line) + '. Console Log: ' + console_log)"
   ]
  },
  {
   "cell_type": "markdown",
   "id": "47370af6",
   "metadata": {},
   "source": [
    " **Create a new Jupyter notebook.**\n"
   ]
  },
  {
   "cell_type": "code",
   "execution_count": null,
   "id": "1d949084",
   "metadata": {},
   "outputs": [],
   "source": [
    "import nbformat as nbf\n",
    "nb = nbf.v4.new_notebook()"
   ]
  },
  {
   "cell_type": "markdown",
   "id": "8a336048",
   "metadata": {},
   "source": [
    " **Add the generated code to the notebook.**\n"
   ]
  },
  {
   "cell_type": "code",
   "execution_count": null,
   "id": "58ac0164",
   "metadata": {},
   "outputs": [],
   "source": [
    "text = response.text\n",
    "nb['cells'] = [nbf.v4.new_markdown_cell(text)]"
   ]
  },
  {
   "cell_type": "markdown",
   "id": "1883754c",
   "metadata": {},
   "source": [
    " **Save the notebook to a file.**\n"
   ]
  },
  {
   "cell_type": "code",
   "execution_count": null,
   "id": "d1e1c0fd",
   "metadata": {},
   "outputs": [],
   "source": [
    "fname = 'test.ipynb'\n",
    "with open(fname, 'w') as f:\n",
    "    nbf.write(nb, f)"
   ]
  }
 ],
 "metadata": {},
 "nbformat": 4,
 "nbformat_minor": 5
}
